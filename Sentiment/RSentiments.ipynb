{
 "cells": [
  {
   "cell_type": "code",
   "execution_count": 14,
   "metadata": {
    "collapsed": true
   },
   "outputs": [],
   "source": [
    "from rpy2 import robjects\n",
    "from rpy2.robjects.packages import importr\n",
    "from rpy2.robjects.packages import STAP\n",
    "import pandas as pd\n",
    "utils = importr('utils')\n",
    "utils.install_packages('SentimentAnalysis')\n",
    "import rpy2.rlike.container as rlc\n",
    "from rpy2.robjects import r, pandas2ri"
   ]
  },
  {
   "cell_type": "code",
   "execution_count": 2,
   "metadata": {
    "collapsed": true
   },
   "outputs": [],
   "source": [
    "headlinedata = pd.read_csv('abcnews-date-text.csv')\n",
    "headlines = headlinedata['headline_text']"
   ]
  },
  {
   "cell_type": "code",
   "execution_count": 3,
   "metadata": {
    "collapsed": true
   },
   "outputs": [],
   "source": [
    "# File path to R file\n",
    "pathSentimentR = \"sentimentR.R\""
   ]
  },
  {
   "cell_type": "code",
   "execution_count": 4,
   "metadata": {
    "collapsed": true
   },
   "outputs": [],
   "source": [
    "# Transfer data to an R string vector\n",
    "headlineVector = robjects.StrVector(headlines)"
   ]
  },
  {
   "cell_type": "code",
   "execution_count": 5,
   "metadata": {
    "collapsed": true
   },
   "outputs": [],
   "source": [
    "# Function that calls the R functions and outputs the sentiments value (numerical)\n",
    "def getSentiments(headline):\n",
    "    with open(pathSentimentR, 'r') as f:\n",
    "        string = f.read()\n",
    "    sentimentR = STAP(string, \"sentimentR\")\n",
    "    sentiment_value = sentimentR.sent(headline)\n",
    "    return sentiment_value"
   ]
  },
  {
   "cell_type": "code",
   "execution_count": 31,
   "metadata": {},
   "outputs": [],
   "source": [
    "# Create pandas dataframe to hold sentiment values\n",
    "pandas2ri.activate()\n",
    "columns = ['WordCount', 'SentimentGI', 'NegativityGI', 'PositivityGI', 'SentimentHE',\n",
    "          'NegativityHE', 'PositivityHE', 'SentimentLM', 'NegativityLM',\n",
    "          'PositivityLM', 'RatioUncertaintyLM', 'SentimentQDAP', 'NegativityQDAP', \n",
    "           'PositivityQDAP']\n",
    "sentiment_scores = pd.DataFrame(columns=columns)"
   ]
  },
  {
   "cell_type": "code",
   "execution_count": 34,
   "metadata": {},
   "outputs": [],
   "source": [
    "# Example loop to show usage\n",
    "for i in range(0,3):\n",
    "    score = getSentiments(headlineVector[i])\n",
    "    sentiment_scores = sentiment_scores.append(pandas2ri.ri2py(score))"
   ]
  },
  {
   "cell_type": "code",
   "execution_count": 35,
   "metadata": {},
   "outputs": [
    {
     "data": {
      "text/html": [
       "<div>\n",
       "<style scoped>\n",
       "    .dataframe tbody tr th:only-of-type {\n",
       "        vertical-align: middle;\n",
       "    }\n",
       "\n",
       "    .dataframe tbody tr th {\n",
       "        vertical-align: top;\n",
       "    }\n",
       "\n",
       "    .dataframe thead th {\n",
       "        text-align: right;\n",
       "    }\n",
       "</style>\n",
       "<table border=\"1\" class=\"dataframe\">\n",
       "  <thead>\n",
       "    <tr style=\"text-align: right;\">\n",
       "      <th></th>\n",
       "      <th>WordCount</th>\n",
       "      <th>SentimentGI</th>\n",
       "      <th>NegativityGI</th>\n",
       "      <th>PositivityGI</th>\n",
       "      <th>SentimentHE</th>\n",
       "      <th>NegativityHE</th>\n",
       "      <th>PositivityHE</th>\n",
       "      <th>SentimentLM</th>\n",
       "      <th>NegativityLM</th>\n",
       "      <th>PositivityLM</th>\n",
       "      <th>RatioUncertaintyLM</th>\n",
       "      <th>SentimentQDAP</th>\n",
       "      <th>NegativityQDAP</th>\n",
       "      <th>PositivityQDAP</th>\n",
       "    </tr>\n",
       "  </thead>\n",
       "  <tbody>\n",
       "    <tr>\n",
       "      <th>1</th>\n",
       "      <td>5.0</td>\n",
       "      <td>0.200000</td>\n",
       "      <td>0.000000</td>\n",
       "      <td>0.200000</td>\n",
       "      <td>0.0</td>\n",
       "      <td>0.0</td>\n",
       "      <td>0.0</td>\n",
       "      <td>0.000000</td>\n",
       "      <td>0.000000</td>\n",
       "      <td>0.0</td>\n",
       "      <td>0.0</td>\n",
       "      <td>0.000000</td>\n",
       "      <td>0.000000</td>\n",
       "      <td>0.00</td>\n",
       "    </tr>\n",
       "    <tr>\n",
       "      <th>1</th>\n",
       "      <td>6.0</td>\n",
       "      <td>-0.166667</td>\n",
       "      <td>0.333333</td>\n",
       "      <td>0.166667</td>\n",
       "      <td>0.0</td>\n",
       "      <td>0.0</td>\n",
       "      <td>0.0</td>\n",
       "      <td>-0.333333</td>\n",
       "      <td>0.333333</td>\n",
       "      <td>0.0</td>\n",
       "      <td>0.0</td>\n",
       "      <td>-0.166667</td>\n",
       "      <td>0.166667</td>\n",
       "      <td>0.00</td>\n",
       "    </tr>\n",
       "    <tr>\n",
       "      <th>1</th>\n",
       "      <td>4.0</td>\n",
       "      <td>0.750000</td>\n",
       "      <td>0.000000</td>\n",
       "      <td>0.750000</td>\n",
       "      <td>0.0</td>\n",
       "      <td>0.0</td>\n",
       "      <td>0.0</td>\n",
       "      <td>0.000000</td>\n",
       "      <td>0.000000</td>\n",
       "      <td>0.0</td>\n",
       "      <td>0.0</td>\n",
       "      <td>0.250000</td>\n",
       "      <td>0.000000</td>\n",
       "      <td>0.25</td>\n",
       "    </tr>\n",
       "  </tbody>\n",
       "</table>\n",
       "</div>"
      ],
      "text/plain": [
       "   WordCount  SentimentGI  NegativityGI  PositivityGI  SentimentHE  \\\n",
       "1        5.0     0.200000      0.000000      0.200000          0.0   \n",
       "1        6.0    -0.166667      0.333333      0.166667          0.0   \n",
       "1        4.0     0.750000      0.000000      0.750000          0.0   \n",
       "\n",
       "   NegativityHE  PositivityHE  SentimentLM  NegativityLM  PositivityLM  \\\n",
       "1           0.0           0.0     0.000000      0.000000           0.0   \n",
       "1           0.0           0.0    -0.333333      0.333333           0.0   \n",
       "1           0.0           0.0     0.000000      0.000000           0.0   \n",
       "\n",
       "   RatioUncertaintyLM  SentimentQDAP  NegativityQDAP  PositivityQDAP  \n",
       "1                 0.0       0.000000        0.000000            0.00  \n",
       "1                 0.0      -0.166667        0.166667            0.00  \n",
       "1                 0.0       0.250000        0.000000            0.25  "
      ]
     },
     "execution_count": 35,
     "metadata": {},
     "output_type": "execute_result"
    }
   ],
   "source": [
    "# Transferring to dataframe shows results: Example below of numbers in output\n",
    "#   WordCount SentimentGI NegativityGI PositivityGI SentimentHE\n",
    "#         5         0.2            0          0.2           0\n",
    "#  NegativityHE PositivityHE SentimentLM NegativityLM\n",
    "#            0            0           0            0\n",
    "#  PositivityLM RatioUncertaintyLM SentimentQDAP\n",
    "#            0                  0             0\n",
    "#  NegativityQDAP PositivityQDAP\n",
    "#              0              0\n",
    "# Initial analysis was done using SentimentQDAP score\n",
    "sentiment_scores.head()"
   ]
  },
  {
   "cell_type": "code",
   "execution_count": null,
   "metadata": {},
   "outputs": [],
   "source": []
  }
 ],
 "metadata": {
  "kernelspec": {
   "display_name": "Python 3",
   "language": "python",
   "name": "python3"
  },
  "language_info": {
   "codemirror_mode": {
    "name": "ipython",
    "version": 3
   },
   "file_extension": ".py",
   "mimetype": "text/x-python",
   "name": "python",
   "nbconvert_exporter": "python",
   "pygments_lexer": "ipython3",
   "version": "3.6.1"
  }
 },
 "nbformat": 4,
 "nbformat_minor": 2
}
