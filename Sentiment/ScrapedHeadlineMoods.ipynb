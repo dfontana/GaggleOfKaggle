{
 "cells": [
  {
   "cell_type": "code",
   "execution_count": 1,
   "metadata": {},
   "outputs": [],
   "source": [
    "import pandas as pd\n",
    "import numpy as np\n",
    "import matplotlib.pyplot as plt"
   ]
  },
  {
   "cell_type": "code",
   "execution_count": 2,
   "metadata": {},
   "outputs": [],
   "source": [
    "# Load Headlines & Clean\n",
    "headlinedata = pd.read_csv('../data/scraped/combined_headlines.csv')\n",
    "headlinedata['titles'] = headlinedata.titles.apply(lambda x: x.strip('\"\\' ' ))\n",
    "headlines = headlinedata.drop(columns=['Unnamed: 0'])"
   ]
  },
  {
   "cell_type": "code",
   "execution_count": 13,
   "metadata": {},
   "outputs": [],
   "source": [
    "# Load Sentiment, Join, Drop Dupes, Write to disk\n",
    "rsentiments = pd.read_csv('test2_rsentiments.csv', names = [\"wordCount\", \"sentimentGI\", \"negativityGI\", \"positivityGI\", \n",
    "                                                           \"sentimentHE\", \"negativityHE\", \"positivityHE\", \"sentimentLM\",\n",
    "                                                           \"negativityLM\", \"positivityLM\", \"ratioUncertaintyLM\", \"sentimentQDAP\",\n",
    "                                                           \"negativityQDAP\", \"positivityQDAP\", \"direction\"])\n",
    "\n",
    "Rdata = pd.concat([headlines, rsentiments], axis=1)\n",
    "Rdata = Rdata[~Rdata.titles.duplicated(keep='first')]\n",
    "Rdata = Rdata[~Rdata.isnull().any(axis=1)]\n",
    "Rdata.to_csv(\"../data/headline_sentiment.csv\")"
   ]
  },
  {
   "cell_type": "code",
   "execution_count": 14,
   "metadata": {},
   "outputs": [
    {
     "data": {
      "image/png": "[encoded data removed]",
      "text/plain": [
       "<Figure size 432x288 with 1 Axes>"
      ]
     },
     "metadata": {},
     "output_type": "display_data"
    }
   ],
   "source": [
    "# Plot the Dist\n",
    "Moods2 = Rdata.groupby('direction')\n",
    "Moods_dist2 = Moods2['titles'].count()\n",
    "x = np.arange(3)\n",
    "plt.bar(x, Moods_dist2, color=['red','gray','blue'])\n",
    "plt.xticks(x, Moods_dist2.index)\n",
    "plt.title('Headline Sentiment Distribution - R')\n",
    "plt.show()"
   ]
  },
  {
   "cell_type": "code",
   "execution_count": null,
   "metadata": {},
   "outputs": [],
   "source": []
  }
 ],
 "metadata": {
  "kernelspec": {
   "display_name": "Python 3",
   "language": "python",
   "name": "python3"
  },
  "language_info": {
   "codemirror_mode": {
    "name": "ipython",
    "version": 3
   },
   "file_extension": ".py",
   "mimetype": "text/x-python",
   "name": "python",
   "nbconvert_exporter": "python",
   "pygments_lexer": "ipython3",
   "version": "3.6.4"
  }
 },
 "nbformat": 4,
 "nbformat_minor": 2
}
