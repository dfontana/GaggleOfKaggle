{
 "cells": [
  {
   "cell_type": "code",
   "execution_count": null,
   "metadata": {},
   "outputs": [],
   "source": [
    "import pandas as pd"
   ]
  },
  {
   "cell_type": "code",
   "execution_count": null,
   "metadata": {},
   "outputs": [],
   "source": [
    "# Read in the CSVs needed to make the join.\n",
    "ticker = pd.read_csv('data/asx-tickers.csv')\n",
    "headlines = pd.read_csv('data/abcnews-date-text.csv')"
   ]
  },
  {
   "cell_type": "code",
   "execution_count": null,
   "metadata": {},
   "outputs": [],
   "source": [
    "ticker.head(2)"
   ]
  },
  {
   "cell_type": "code",
   "execution_count": null,
   "metadata": {},
   "outputs": [],
   "source": [
    "headlines.head(2)"
   ]
  },
  {
   "cell_type": "code",
   "execution_count": null,
   "metadata": {},
   "outputs": [],
   "source": [
    "# Split the DF into chunks, and process each in a seperate thread on your CPU\n",
    "\n",
    "import numpy as np\n",
    "from multiprocessing import cpu_count, Pool\n",
    "\n",
    "cores = cpu_count()\n",
    " \n",
    "def parallelize(data, func):\n",
    "    data_split = np.array_split(data, cores)\n",
    "    pool = Pool(cores)\n",
    "    data = pd.concat(pool.map(func, data_split))\n",
    "    pool.close()\n",
    "    pool.join()\n",
    "    return data"
   ]
  },
  {
   "cell_type": "code",
   "execution_count": null,
   "metadata": {},
   "outputs": [],
   "source": [
    "# Attempt to Fuzzy Match up to FIRSTN records\n",
    "\n",
    "from fuzzywuzzy import process, fuzz\n",
    "from tqdm import tqdm\n",
    "\n",
    "tqdm.pandas(desc=\"HALP\")\n",
    "\n",
    "FIRSTN = 1000\n",
    "\n",
    "# Fuzzy match function\n",
    "def fuzzy_match(x, choices, scorer, cutoff):\n",
    "    return process.extractOne(x, choices=choices, scorer=scorer, score_cutoff=cutoff)\n",
    "    \n",
    "\n",
    "# Parallelization function, to run on each split of data\n",
    "def appfun(df):\n",
    "    return df.loc[:FIRSTN, 'headline_text'].progress_apply(\n",
    "        fuzzy_match,\n",
    "        args=(\n",
    "            ticker.loc[:, 'company'], \n",
    "            fuzz.partial_ratio,\n",
    "            80\n",
    "        )\n",
    "    )\n",
    "\n",
    "# Run in parallel\n",
    "# matching_results = parallelize(headlines, appfun)\n",
    "# test = headlines[:FIRSTN].copy()\n",
    "# test['match'] = matching_results\n",
    "# test[test['match'].notnull()]"
   ]
  },
  {
   "cell_type": "code",
   "execution_count": null,
   "metadata": {},
   "outputs": [],
   "source": [
    "# Sandbox\n",
    "\n",
    "import nltk\n",
    "nltk.download('averaged_perceptron_tagger')\n",
    "nouns = ['NNS', 'NNP', 'NNPS']\n",
    "string = \"qantas urged to update security in shadow of\".split()\n",
    "tags = nltk.tag.pos_tag(string)\n",
    "filtered = \" \".join([x[0] for x in tags if x[1] in nouns])\n",
    "actual = 'QANTAS AIRWAYS LIMITED'.lower()\n",
    "print(filtered, actual)\n",
    "fuzz.ratio(filtered, actual)"
   ]
  },
  {
   "cell_type": "code",
   "execution_count": null,
   "metadata": {},
   "outputs": [],
   "source": [
    "## Attempt to Fuzzy Match only the nouns of a sentence, up to FIRSTN records.\n",
    "\n",
    "from fuzzywuzzy import process, fuzz\n",
    "from tqdm import tqdm\n",
    "import nltk\n",
    "nltk.download('averaged_perceptron_tagger')\n",
    "\n",
    "tqdm.pandas(desc=\"HALP\")\n",
    "\n",
    "nouns = ['NNS', 'NNP', 'NNPS']\n",
    "\n",
    "FIRSTN = 1000\n",
    "\n",
    "# Fuzzy match function\n",
    "def fuzzy_match(x, choices, scorer, cutoff):\n",
    "    tags = nltk.tag.pos_tag(x.split())\n",
    "    filtered = \" \".join([x[0] for x in tags if x[1] in nouns])\n",
    "    if filtered == '':\n",
    "        return\n",
    "    return process.extractOne(filtered, choices=choices, scorer=scorer, score_cutoff=cutoff)\n",
    "    \n",
    "\n",
    "# Parallelization function, to run on each split of data\n",
    "def appfun(df):\n",
    "    return df.loc[:FIRSTN, 'headline_text'].progress_apply(\n",
    "        fuzzy_match,\n",
    "        args=(\n",
    "            ticker.loc[:, 'company'].map(lambda x: x.lower()), \n",
    "            fuzz.partial_ratio,\n",
    "            65\n",
    "        )\n",
    "    )\n",
    "\n",
    "# Run in parallel\n",
    "matching_results = parallelize(headlines, appfun)\n",
    "test = headlines[:FIRSTN].copy()\n",
    "test['match'] = matching_results\n",
    "test[test['match'].notnull()]"
   ]
  }
 ],
 "metadata": {
  "kernelspec": {
   "display_name": "Python 3",
   "language": "python",
   "name": "python3"
  },
  "language_info": {
   "codemirror_mode": {
    "name": "ipython",
    "version": 3
   },
   "file_extension": ".py",
   "mimetype": "text/x-python",
   "name": "python",
   "nbconvert_exporter": "python",
   "pygments_lexer": "ipython3",
   "version": "3.6.4"
  }
 },
 "nbformat": 4,
 "nbformat_minor": 2
}
