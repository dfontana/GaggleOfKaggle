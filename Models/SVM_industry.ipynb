{
 "cells": [
  {
   "cell_type": "code",
   "execution_count": 2,
   "metadata": {},
   "outputs": [],
   "source": [
    "import numpy as np\n",
    "import pandas as pd\n",
    "import datetime"
   ]
  },
  {
   "cell_type": "code",
   "execution_count": 5,
   "metadata": {},
   "outputs": [],
   "source": [
    "sentiments = pd.read_csv(\"../data/sentiment/sentiment_days.csv\")\n",
    "sentiments.date = pd.to_datetime(sentiments.date, format='%Y-%m-%d')\n",
    "tickers = pd.read_csv(\"../data/asx-tickers.csv\")\n",
    "tickers.drop(['company'], axis=1, inplace=True)\n",
    "stocks = pd.read_csv(\"../data/percent_change/relative_change.csv\")\n",
    "stocks.date = pd.to_datetime(stocks.date, format='%Y%m%d')\n",
    "stocks.drop(['Unnamed: 0'], axis=1, inplace=True)\n",
    "stocks = stocks[(stocks.date > '2005-12-31') & (stocks.date < '2017-12-31')]"
   ]
  },
  {
   "cell_type": "code",
   "execution_count": 6,
   "metadata": {},
   "outputs": [
    {
     "data": {
      "text/html": [
       "<div>\n",
       "<style scoped>\n",
       "    .dataframe tbody tr th:only-of-type {\n",
       "        vertical-align: middle;\n",
       "    }\n",
       "\n",
       "    .dataframe tbody tr th {\n",
       "        vertical-align: top;\n",
       "    }\n",
       "\n",
       "    .dataframe thead th {\n",
       "        text-align: right;\n",
       "    }\n",
       "</style>\n",
       "<table border=\"1\" class=\"dataframe\">\n",
       "  <thead>\n",
       "    <tr style=\"text-align: right;\">\n",
       "      <th></th>\n",
       "      <th>date</th>\n",
       "      <th>mode</th>\n",
       "      <th>Sum_QDAP</th>\n",
       "      <th>Sum</th>\n",
       "      <th>Mean_QDAP</th>\n",
       "      <th>Mean</th>\n",
       "    </tr>\n",
       "  </thead>\n",
       "  <tbody>\n",
       "    <tr>\n",
       "      <th>0</th>\n",
       "      <td>2006-01-01</td>\n",
       "      <td>negative</td>\n",
       "      <td>-5.909524</td>\n",
       "      <td>negative</td>\n",
       "      <td>-0.060301</td>\n",
       "      <td>negative</td>\n",
       "    </tr>\n",
       "  </tbody>\n",
       "</table>\n",
       "</div>"
      ],
      "text/plain": [
       "        date      mode  Sum_QDAP       Sum  Mean_QDAP      Mean\n",
       "0 2006-01-01  negative -5.909524  negative  -0.060301  negative"
      ]
     },
     "execution_count": 6,
     "metadata": {},
     "output_type": "execute_result"
    }
   ],
   "source": [
    "sentiments.head(1)"
   ]
  },
  {
   "cell_type": "code",
   "execution_count": 7,
   "metadata": {},
   "outputs": [
    {
     "data": {
      "text/html": [
       "<div>\n",
       "<style scoped>\n",
       "    .dataframe tbody tr th:only-of-type {\n",
       "        vertical-align: middle;\n",
       "    }\n",
       "\n",
       "    .dataframe tbody tr th {\n",
       "        vertical-align: top;\n",
       "    }\n",
       "\n",
       "    .dataframe thead th {\n",
       "        text-align: right;\n",
       "    }\n",
       "</style>\n",
       "<table border=\"1\" class=\"dataframe\">\n",
       "  <thead>\n",
       "    <tr style=\"text-align: right;\">\n",
       "      <th></th>\n",
       "      <th>ticker</th>\n",
       "      <th>date</th>\n",
       "      <th>close</th>\n",
       "      <th>rel_difference_close_open</th>\n",
       "      <th>rel_difference_close_close</th>\n",
       "    </tr>\n",
       "  </thead>\n",
       "  <tbody>\n",
       "    <tr>\n",
       "      <th>2200632</th>\n",
       "      <td>AAC</td>\n",
       "      <td>2006-01-03</td>\n",
       "      <td>1.64</td>\n",
       "      <td>0.015244</td>\n",
       "      <td>0.051829</td>\n",
       "    </tr>\n",
       "  </tbody>\n",
       "</table>\n",
       "</div>"
      ],
      "text/plain": [
       "        ticker       date  close  rel_difference_close_open  \\\n",
       "2200632    AAC 2006-01-03   1.64                   0.015244   \n",
       "\n",
       "         rel_difference_close_close  \n",
       "2200632                    0.051829  "
      ]
     },
     "execution_count": 7,
     "metadata": {},
     "output_type": "execute_result"
    }
   ],
   "source": [
    "stocks.head(1)"
   ]
  },
  {
   "cell_type": "code",
   "execution_count": 8,
   "metadata": {},
   "outputs": [],
   "source": [
    "industries = stocks.merge(tickers, on='ticker')\n",
    "sentiments['prior_date']=sentiments.date + datetime.timedelta(days=1)\n",
    "data = industries.merge(sentiments, left_on='date', right_on='prior_date', how='inner')\n",
    "data['label'] = np.where(data['rel_difference_close_open']>0, 1, 0)"
   ]
  },
  {
   "cell_type": "code",
   "execution_count": 9,
   "metadata": {},
   "outputs": [
    {
     "data": {
      "text/html": [
       "<div>\n",
       "<style scoped>\n",
       "    .dataframe tbody tr th:only-of-type {\n",
       "        vertical-align: middle;\n",
       "    }\n",
       "\n",
       "    .dataframe tbody tr th {\n",
       "        vertical-align: top;\n",
       "    }\n",
       "\n",
       "    .dataframe thead th {\n",
       "        text-align: right;\n",
       "    }\n",
       "</style>\n",
       "<table border=\"1\" class=\"dataframe\">\n",
       "  <thead>\n",
       "    <tr style=\"text-align: right;\">\n",
       "      <th></th>\n",
       "      <th>ticker</th>\n",
       "      <th>date_x</th>\n",
       "      <th>close</th>\n",
       "      <th>rel_difference_close_open</th>\n",
       "      <th>rel_difference_close_close</th>\n",
       "      <th>industry</th>\n",
       "      <th>date_y</th>\n",
       "      <th>mode</th>\n",
       "      <th>Sum_QDAP</th>\n",
       "      <th>Sum</th>\n",
       "      <th>Mean_QDAP</th>\n",
       "      <th>Mean</th>\n",
       "      <th>prior_date</th>\n",
       "      <th>label</th>\n",
       "    </tr>\n",
       "  </thead>\n",
       "  <tbody>\n",
       "    <tr>\n",
       "      <th>0</th>\n",
       "      <td>AAC</td>\n",
       "      <td>2006-01-03</td>\n",
       "      <td>1.640</td>\n",
       "      <td>0.015244</td>\n",
       "      <td>0.051829</td>\n",
       "      <td>Food, Beverage &amp; Tobacco</td>\n",
       "      <td>2006-01-02</td>\n",
       "      <td>neutral</td>\n",
       "      <td>-4.304762</td>\n",
       "      <td>negative</td>\n",
       "      <td>-0.031887</td>\n",
       "      <td>negative</td>\n",
       "      <td>2006-01-03</td>\n",
       "      <td>1</td>\n",
       "    </tr>\n",
       "    <tr>\n",
       "      <th>1</th>\n",
       "      <td>AAR</td>\n",
       "      <td>2006-01-03</td>\n",
       "      <td>0.019</td>\n",
       "      <td>-0.052632</td>\n",
       "      <td>-0.052632</td>\n",
       "      <td>Materials</td>\n",
       "      <td>2006-01-02</td>\n",
       "      <td>neutral</td>\n",
       "      <td>-4.304762</td>\n",
       "      <td>negative</td>\n",
       "      <td>-0.031887</td>\n",
       "      <td>negative</td>\n",
       "      <td>2006-01-03</td>\n",
       "      <td>0</td>\n",
       "    </tr>\n",
       "    <tr>\n",
       "      <th>2</th>\n",
       "      <td>AAU</td>\n",
       "      <td>2006-01-03</td>\n",
       "      <td>0.700</td>\n",
       "      <td>0.028571</td>\n",
       "      <td>0.028571</td>\n",
       "      <td>Media</td>\n",
       "      <td>2006-01-02</td>\n",
       "      <td>neutral</td>\n",
       "      <td>-4.304762</td>\n",
       "      <td>negative</td>\n",
       "      <td>-0.031887</td>\n",
       "      <td>negative</td>\n",
       "      <td>2006-01-03</td>\n",
       "      <td>1</td>\n",
       "    </tr>\n",
       "  </tbody>\n",
       "</table>\n",
       "</div>"
      ],
      "text/plain": [
       "  ticker     date_x  close  rel_difference_close_open  \\\n",
       "0    AAC 2006-01-03  1.640                   0.015244   \n",
       "1    AAR 2006-01-03  0.019                  -0.052632   \n",
       "2    AAU 2006-01-03  0.700                   0.028571   \n",
       "\n",
       "   rel_difference_close_close                  industry     date_y     mode  \\\n",
       "0                    0.051829  Food, Beverage & Tobacco 2006-01-02  neutral   \n",
       "1                   -0.052632                 Materials 2006-01-02  neutral   \n",
       "2                    0.028571                     Media 2006-01-02  neutral   \n",
       "\n",
       "   Sum_QDAP       Sum  Mean_QDAP      Mean prior_date  label  \n",
       "0 -4.304762  negative  -0.031887  negative 2006-01-03      1  \n",
       "1 -4.304762  negative  -0.031887  negative 2006-01-03      0  \n",
       "2 -4.304762  negative  -0.031887  negative 2006-01-03      1  "
      ]
     },
     "execution_count": 9,
     "metadata": {},
     "output_type": "execute_result"
    }
   ],
   "source": [
    "data.head(3)"
   ]
  },
  {
   "cell_type": "code",
   "execution_count": 10,
   "metadata": {},
   "outputs": [
    {
     "name": "stdout",
     "output_type": "stream",
     "text": [
      "0.6138315770831488\n"
     ]
    }
   ],
   "source": [
    "from sklearn.svm import SVC\n",
    "from sklearn.model_selection import train_test_split\n",
    "\n",
    "industry = 'Food, Beverage & Tobacco'\n",
    "groups = data.groupby('industry')\n",
    "tick_dat = groups.get_group(industry)\n",
    "\n",
    "svc = SVC()\n",
    "train, test = train_test_split(tick_dat, test_size=0.2)\n",
    "\n",
    "train_X = train[['Sum_QDAP']]\n",
    "train_Y = train[['label']]\n",
    "test_X = test[['Sum_QDAP']]\n",
    "test_Y = test[['label']]\n",
    "\n",
    "model = svc.fit(train_X, train_Y.values.ravel())\n",
    "predict = model.predict(test_X)\n",
    "print(model.score(test_X,test_Y))"
   ]
  },
  {
   "cell_type": "code",
   "execution_count": null,
   "metadata": {},
   "outputs": [],
   "source": []
  }
 ],
 "metadata": {
  "kernelspec": {
   "display_name": "Python 3",
   "language": "python",
   "name": "python3"
  },
  "language_info": {
   "codemirror_mode": {
    "name": "ipython",
    "version": 3
   },
   "file_extension": ".py",
   "mimetype": "text/x-python",
   "name": "python",
   "nbconvert_exporter": "python",
   "pygments_lexer": "ipython3",
   "version": "3.6.5"
  }
 },
 "nbformat": 4,
 "nbformat_minor": 2
}
