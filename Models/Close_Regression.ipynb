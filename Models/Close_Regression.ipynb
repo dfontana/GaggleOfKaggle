{
 "cells": [
  {
   "cell_type": "code",
   "execution_count": 26,
   "metadata": {},
   "outputs": [],
   "source": [
    "import pandas as pd\n",
    "import numpy as np\n",
    "import datetime\n",
    "import matplotlib.pyplot as plt\n",
    "from sklearn.linear_model import LinearRegression\n",
    "from sklearn import preprocessing, cross_validation"
   ]
  },
  {
   "cell_type": "code",
   "execution_count": 2,
   "metadata": {},
   "outputs": [
    {
     "data": {
      "text/html": [
       "<div>\n",
       "<style scoped>\n",
       "    .dataframe tbody tr th:only-of-type {\n",
       "        vertical-align: middle;\n",
       "    }\n",
       "\n",
       "    .dataframe tbody tr th {\n",
       "        vertical-align: top;\n",
       "    }\n",
       "\n",
       "    .dataframe thead th {\n",
       "        text-align: right;\n",
       "    }\n",
       "</style>\n",
       "<table border=\"1\" class=\"dataframe\">\n",
       "  <thead>\n",
       "    <tr style=\"text-align: right;\">\n",
       "      <th></th>\n",
       "      <th>ticker</th>\n",
       "      <th>date_x</th>\n",
       "      <th>close</th>\n",
       "      <th>rel_difference_close_open</th>\n",
       "      <th>rel_difference_close_close</th>\n",
       "      <th>date_y</th>\n",
       "      <th>mode</th>\n",
       "      <th>Sum_QDAP</th>\n",
       "      <th>Sum</th>\n",
       "      <th>Mean_QDAP</th>\n",
       "      <th>Mean</th>\n",
       "      <th>prior_date</th>\n",
       "      <th>label</th>\n",
       "    </tr>\n",
       "  </thead>\n",
       "  <tbody>\n",
       "    <tr>\n",
       "      <th>0</th>\n",
       "      <td>AAC</td>\n",
       "      <td>2006-01-03</td>\n",
       "      <td>1.640</td>\n",
       "      <td>0.015244</td>\n",
       "      <td>0.051829</td>\n",
       "      <td>2006-01-02</td>\n",
       "      <td>neutral</td>\n",
       "      <td>-4.304762</td>\n",
       "      <td>negative</td>\n",
       "      <td>-0.031887</td>\n",
       "      <td>negative</td>\n",
       "      <td>2006-01-03</td>\n",
       "      <td>1</td>\n",
       "    </tr>\n",
       "    <tr>\n",
       "      <th>1</th>\n",
       "      <td>AAE</td>\n",
       "      <td>2006-01-03</td>\n",
       "      <td>0.365</td>\n",
       "      <td>0.054795</td>\n",
       "      <td>0.068493</td>\n",
       "      <td>2006-01-02</td>\n",
       "      <td>neutral</td>\n",
       "      <td>-4.304762</td>\n",
       "      <td>negative</td>\n",
       "      <td>-0.031887</td>\n",
       "      <td>negative</td>\n",
       "      <td>2006-01-03</td>\n",
       "      <td>1</td>\n",
       "    </tr>\n",
       "    <tr>\n",
       "      <th>2</th>\n",
       "      <td>AAM</td>\n",
       "      <td>2006-01-03</td>\n",
       "      <td>0.255</td>\n",
       "      <td>-0.098039</td>\n",
       "      <td>-0.078431</td>\n",
       "      <td>2006-01-02</td>\n",
       "      <td>neutral</td>\n",
       "      <td>-4.304762</td>\n",
       "      <td>negative</td>\n",
       "      <td>-0.031887</td>\n",
       "      <td>negative</td>\n",
       "      <td>2006-01-03</td>\n",
       "      <td>0</td>\n",
       "    </tr>\n",
       "  </tbody>\n",
       "</table>\n",
       "</div>"
      ],
      "text/plain": [
       "  ticker     date_x  close  rel_difference_close_open  \\\n",
       "0    AAC 2006-01-03  1.640                   0.015244   \n",
       "1    AAE 2006-01-03  0.365                   0.054795   \n",
       "2    AAM 2006-01-03  0.255                  -0.098039   \n",
       "\n",
       "   rel_difference_close_close     date_y     mode  Sum_QDAP       Sum  \\\n",
       "0                    0.051829 2006-01-02  neutral -4.304762  negative   \n",
       "1                    0.068493 2006-01-02  neutral -4.304762  negative   \n",
       "2                   -0.078431 2006-01-02  neutral -4.304762  negative   \n",
       "\n",
       "   Mean_QDAP      Mean prior_date  label  \n",
       "0  -0.031887  negative 2006-01-03      1  \n",
       "1  -0.031887  negative 2006-01-03      1  \n",
       "2  -0.031887  negative 2006-01-03      0  "
      ]
     },
     "execution_count": 2,
     "metadata": {},
     "output_type": "execute_result"
    }
   ],
   "source": [
    "# Clean / Load\n",
    "sentiments = pd.read_csv(\"../data/sentiment/sentiment_days.csv\")\n",
    "sentiments.date = pd.to_datetime(sentiments.date, format='%Y-%m-%d')\n",
    "stocks = pd.read_csv(\"../data/percent_change/relative_change.csv\")\n",
    "stocks.date = pd.to_datetime(stocks.date, format='%Y%m%d')\n",
    "stocks.drop(['Unnamed: 0'], axis=1, inplace=True)\n",
    "stocks = stocks[(stocks.date > '2005-12-31') & (stocks.date < '2017-12-31')]\n",
    "\n",
    "# Join\n",
    "sentiments['prior_date']=sentiments.date + datetime.timedelta(days=1)\n",
    "data = stocks.merge(sentiments, left_on='date', right_on='prior_date', how='inner')\n",
    "data['label'] = np.where(data['rel_difference_close_open']>0, 1, 0)\n",
    "\n",
    "# Preview\n",
    "data.head(3)"
   ]
  },
  {
   "cell_type": "code",
   "execution_count": 27,
   "metadata": {},
   "outputs": [
    {
     "name": "stdout",
     "output_type": "stream",
     "text": [
      "Score:  0.9269645084567592\n"
     ]
    }
   ],
   "source": [
    "# From: https://enlight.nyc/stock-market-prediction\n",
    "ticker = 'QAN'\n",
    "groups = data.groupby('ticker')\n",
    "tick_dat = groups.get_group(ticker)\n",
    "\n",
    "forecast_out = int(30)\n",
    "df = tick_dat.copy();\n",
    "df = df[['close']]\n",
    "df['Prediction'] = df[['close']].shift(-forecast_out)\n",
    "\n",
    "X = np.array(df.drop(['Prediction'], 1))\n",
    "X = preprocessing.scale(X)\n",
    "\n",
    "X_forecast = X[-forecast_out:] # set X_forecast equal to last 30\n",
    "X = X[:-forecast_out] # remove last 30 from X\n",
    "\n",
    "y = np.array(df['Prediction'])\n",
    "y = y[:-forecast_out]\n",
    "\n",
    "# Regression\n",
    "X_train, X_test, y_train, y_test = cross_validation.train_test_split(X, y, test_size = 0.2)\n",
    "\n",
    "# Training\n",
    "clf = LinearRegression()\n",
    "clf.fit(X_train,y_train)\n",
    "\n",
    "# Testing\n",
    "pred = clf.predict(X_forecast)\n",
    "score = clf.score(X_test, y_test)\n",
    "print(\"Score: \", score)"
   ]
  },
  {
   "cell_type": "code",
   "execution_count": 28,
   "metadata": {},
   "outputs": [
    {
     "data": {
      "image/png": "[encoded data removed]",
      "text/plain": [
       "<Figure size 432x288 with 1 Axes>"
      ]
     },
     "metadata": {},
     "output_type": "display_data"
    }
   ],
   "source": [
    "plt.scatter(X_train, y_train,  color='black')\n",
    "plt.scatter(X_test, y_test,  color='yellow')\n",
    "plt.plot(X_forecast, pred, color='blue', linewidth=3)\n",
    "\n",
    "plt.xticks(())\n",
    "plt.yticks(())\n",
    "\n",
    "plt.show()"
   ]
  },
  {
   "cell_type": "code",
   "execution_count": null,
   "metadata": {},
   "outputs": [],
   "source": []
  }
 ],
 "metadata": {
  "kernelspec": {
   "display_name": "Python 3",
   "language": "python",
   "name": "python3"
  },
  "language_info": {
   "codemirror_mode": {
    "name": "ipython",
    "version": 3
   },
   "file_extension": ".py",
   "mimetype": "text/x-python",
   "name": "python",
   "nbconvert_exporter": "python",
   "pygments_lexer": "ipython3",
   "version": "3.6.5"
  }
 },
 "nbformat": 4,
 "nbformat_minor": 2
}
