{
 "cells": [
  {
   "cell_type": "code",
   "execution_count": 1,
   "metadata": {},
   "outputs": [],
   "source": [
    "import pandas as pd\n",
    "import datetime"
   ]
  },
  {
   "cell_type": "code",
   "execution_count": 2,
   "metadata": {},
   "outputs": [],
   "source": [
    "sentiments = pd.read_csv(\"../data/sentiment/sentiment_days.csv\")\n",
    "sentiments.date = pd.to_datetime(sentiments.date, format='%Y-%m-%d')\n",
    "stocks = pd.read_csv(\"../data/percent_change/relative_change.csv\")\n",
    "stocks.date = pd.to_datetime(stocks.date, format='%Y%m%d')\n",
    "stocks.drop(['Unnamed: 0'], axis=1, inplace=True)\n",
    "stocks = stocks[(stocks.date > '2005-12-31') & (stocks.date < '2017-12-31')]"
   ]
  },
  {
   "cell_type": "code",
   "execution_count": 3,
   "metadata": {},
   "outputs": [
    {
     "data": {
      "text/html": [
       "<div>\n",
       "<style scoped>\n",
       "    .dataframe tbody tr th:only-of-type {\n",
       "        vertical-align: middle;\n",
       "    }\n",
       "\n",
       "    .dataframe tbody tr th {\n",
       "        vertical-align: top;\n",
       "    }\n",
       "\n",
       "    .dataframe thead th {\n",
       "        text-align: right;\n",
       "    }\n",
       "</style>\n",
       "<table border=\"1\" class=\"dataframe\">\n",
       "  <thead>\n",
       "    <tr style=\"text-align: right;\">\n",
       "      <th></th>\n",
       "      <th>date</th>\n",
       "      <th>mode</th>\n",
       "      <th>Sum_QDAP</th>\n",
       "      <th>Sum</th>\n",
       "      <th>Mean_QDAP</th>\n",
       "      <th>Mean</th>\n",
       "    </tr>\n",
       "  </thead>\n",
       "  <tbody>\n",
       "    <tr>\n",
       "      <th>0</th>\n",
       "      <td>2006-01-01</td>\n",
       "      <td>negative</td>\n",
       "      <td>-5.909524</td>\n",
       "      <td>negative</td>\n",
       "      <td>-0.060301</td>\n",
       "      <td>negative</td>\n",
       "    </tr>\n",
       "  </tbody>\n",
       "</table>\n",
       "</div>"
      ],
      "text/plain": [
       "        date      mode  Sum_QDAP       Sum  Mean_QDAP      Mean\n",
       "0 2006-01-01  negative -5.909524  negative  -0.060301  negative"
      ]
     },
     "execution_count": 3,
     "metadata": {},
     "output_type": "execute_result"
    }
   ],
   "source": [
    "sentiments.head(1)"
   ]
  },
  {
   "cell_type": "code",
   "execution_count": 4,
   "metadata": {},
   "outputs": [
    {
     "data": {
      "text/html": [
       "<div>\n",
       "<style scoped>\n",
       "    .dataframe tbody tr th:only-of-type {\n",
       "        vertical-align: middle;\n",
       "    }\n",
       "\n",
       "    .dataframe tbody tr th {\n",
       "        vertical-align: top;\n",
       "    }\n",
       "\n",
       "    .dataframe thead th {\n",
       "        text-align: right;\n",
       "    }\n",
       "</style>\n",
       "<table border=\"1\" class=\"dataframe\">\n",
       "  <thead>\n",
       "    <tr style=\"text-align: right;\">\n",
       "      <th></th>\n",
       "      <th>ticker</th>\n",
       "      <th>date</th>\n",
       "      <th>close</th>\n",
       "      <th>rel_difference_close_open</th>\n",
       "      <th>rel_difference_close_close</th>\n",
       "    </tr>\n",
       "  </thead>\n",
       "  <tbody>\n",
       "    <tr>\n",
       "      <th>2200632</th>\n",
       "      <td>AAC</td>\n",
       "      <td>2006-01-03</td>\n",
       "      <td>1.64</td>\n",
       "      <td>0.015244</td>\n",
       "      <td>0.051829</td>\n",
       "    </tr>\n",
       "  </tbody>\n",
       "</table>\n",
       "</div>"
      ],
      "text/plain": [
       "        ticker       date  close  rel_difference_close_open  \\\n",
       "2200632    AAC 2006-01-03   1.64                   0.015244   \n",
       "\n",
       "         rel_difference_close_close  \n",
       "2200632                    0.051829  "
      ]
     },
     "execution_count": 4,
     "metadata": {},
     "output_type": "execute_result"
    }
   ],
   "source": [
    "stocks.head(1)"
   ]
  },
  {
   "cell_type": "code",
   "execution_count": 5,
   "metadata": {},
   "outputs": [],
   "source": [
    "sentiments['prior_date']=sentiments.date + datetime.timedelta(days=1)\n",
    "data = stocks.merge(sentiments, left_on='date', right_on='prior_date', how='inner')"
   ]
  },
  {
   "cell_type": "code",
   "execution_count": 6,
   "metadata": {},
   "outputs": [
    {
     "data": {
      "text/html": [
       "<div>\n",
       "<style scoped>\n",
       "    .dataframe tbody tr th:only-of-type {\n",
       "        vertical-align: middle;\n",
       "    }\n",
       "\n",
       "    .dataframe tbody tr th {\n",
       "        vertical-align: top;\n",
       "    }\n",
       "\n",
       "    .dataframe thead th {\n",
       "        text-align: right;\n",
       "    }\n",
       "</style>\n",
       "<table border=\"1\" class=\"dataframe\">\n",
       "  <thead>\n",
       "    <tr style=\"text-align: right;\">\n",
       "      <th></th>\n",
       "      <th>ticker</th>\n",
       "      <th>date_x</th>\n",
       "      <th>close</th>\n",
       "      <th>rel_difference_close_open</th>\n",
       "      <th>rel_difference_close_close</th>\n",
       "      <th>date_y</th>\n",
       "      <th>mode</th>\n",
       "      <th>Sum_QDAP</th>\n",
       "      <th>Sum</th>\n",
       "      <th>Mean_QDAP</th>\n",
       "      <th>Mean</th>\n",
       "      <th>prior_date</th>\n",
       "    </tr>\n",
       "  </thead>\n",
       "  <tbody>\n",
       "    <tr>\n",
       "      <th>0</th>\n",
       "      <td>AAC</td>\n",
       "      <td>2006-01-03</td>\n",
       "      <td>1.640</td>\n",
       "      <td>0.015244</td>\n",
       "      <td>0.051829</td>\n",
       "      <td>2006-01-02</td>\n",
       "      <td>neutral</td>\n",
       "      <td>-4.304762</td>\n",
       "      <td>negative</td>\n",
       "      <td>-0.031887</td>\n",
       "      <td>negative</td>\n",
       "      <td>2006-01-03</td>\n",
       "    </tr>\n",
       "    <tr>\n",
       "      <th>1</th>\n",
       "      <td>AAE</td>\n",
       "      <td>2006-01-03</td>\n",
       "      <td>0.365</td>\n",
       "      <td>0.054795</td>\n",
       "      <td>0.068493</td>\n",
       "      <td>2006-01-02</td>\n",
       "      <td>neutral</td>\n",
       "      <td>-4.304762</td>\n",
       "      <td>negative</td>\n",
       "      <td>-0.031887</td>\n",
       "      <td>negative</td>\n",
       "      <td>2006-01-03</td>\n",
       "    </tr>\n",
       "    <tr>\n",
       "      <th>2</th>\n",
       "      <td>AAM</td>\n",
       "      <td>2006-01-03</td>\n",
       "      <td>0.255</td>\n",
       "      <td>-0.098039</td>\n",
       "      <td>-0.078431</td>\n",
       "      <td>2006-01-02</td>\n",
       "      <td>neutral</td>\n",
       "      <td>-4.304762</td>\n",
       "      <td>negative</td>\n",
       "      <td>-0.031887</td>\n",
       "      <td>negative</td>\n",
       "      <td>2006-01-03</td>\n",
       "    </tr>\n",
       "  </tbody>\n",
       "</table>\n",
       "</div>"
      ],
      "text/plain": [
       "  ticker     date_x  close  rel_difference_close_open  \\\n",
       "0    AAC 2006-01-03  1.640                   0.015244   \n",
       "1    AAE 2006-01-03  0.365                   0.054795   \n",
       "2    AAM 2006-01-03  0.255                  -0.098039   \n",
       "\n",
       "   rel_difference_close_close     date_y     mode  Sum_QDAP       Sum  \\\n",
       "0                    0.051829 2006-01-02  neutral -4.304762  negative   \n",
       "1                    0.068493 2006-01-02  neutral -4.304762  negative   \n",
       "2                   -0.078431 2006-01-02  neutral -4.304762  negative   \n",
       "\n",
       "   Mean_QDAP      Mean prior_date  \n",
       "0  -0.031887  negative 2006-01-03  \n",
       "1  -0.031887  negative 2006-01-03  \n",
       "2  -0.031887  negative 2006-01-03  "
      ]
     },
     "execution_count": 6,
     "metadata": {},
     "output_type": "execute_result"
    }
   ],
   "source": [
    "data.head(3)"
   ]
  },
  {
   "cell_type": "code",
   "execution_count": 7,
   "metadata": {},
   "outputs": [
    {
     "name": "stdout",
     "output_type": "stream",
     "text": [
      "-5.721801344939201\n"
     ]
    }
   ],
   "source": [
    "from sklearn.svm import SVR\n",
    "from sklearn.model_selection import train_test_split\n",
    "\n",
    "ticker = 'QAN'\n",
    "groups = data.groupby('ticker')\n",
    "tick_dat = groups.get_group(ticker)\n",
    "\n",
    "svr = SVR(kernel='rbf')\n",
    "train, test = train_test_split(tick_dat, test_size=0.2)\n",
    "\n",
    "train_X = train[['close','Sum_QDAP']]\n",
    "train_Y = train[['rel_difference_close_open']]\n",
    "test_X = test[['close','Sum_QDAP']]\n",
    "test_Y = test[['rel_difference_close_open']]\n",
    "\n",
    "model = svr.fit(train_X, train_Y.values.ravel())\n",
    "predict = model.predict(test_X)\n",
    "print(model.score(test_X,test_Y))"
   ]
  },
  {
   "cell_type": "code",
   "execution_count": null,
   "metadata": {},
   "outputs": [],
   "source": []
  },
  {
   "cell_type": "code",
   "execution_count": null,
   "metadata": {},
   "outputs": [],
   "source": []
  }
 ],
 "metadata": {
  "kernelspec": {
   "display_name": "Python 3",
   "language": "python",
   "name": "python3"
  },
  "language_info": {
   "codemirror_mode": {
    "name": "ipython",
    "version": 3
   },
   "file_extension": ".py",
   "mimetype": "text/x-python",
   "name": "python",
   "nbconvert_exporter": "python",
   "pygments_lexer": "ipython3",
   "version": "3.6.5"
  }
 },
 "nbformat": 4,
 "nbformat_minor": 2
}
