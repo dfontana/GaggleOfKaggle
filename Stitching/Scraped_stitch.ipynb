{
 "cells": [
  {
   "cell_type": "code",
   "execution_count": 1,
   "metadata": {},
   "outputs": [],
   "source": [
    "import pandas as pd\n",
    "from fuzzywuzzy import process, fuzz\n",
    "from tqdm import tqdm_notebook, tqdm\n",
    "import nltk"
   ]
  },
  {
   "cell_type": "code",
   "execution_count": 3,
   "metadata": {},
   "outputs": [],
   "source": [
    "ticker = pd.read_csv('../data/asx-tickers.csv')\n",
    "head_1 = pd.read_csv('../data/scraped/2006_2010.csv')\n",
    "head_2 = pd.read_csv('../data/scraped/2010_2010.csv')\n",
    "head_3 = pd.read_csv('../data/scraped/2010_2016.csv')\n",
    "head_4 = pd.read_csv('../data/scraped/2016_2017.csv')\n",
    "headlines = head_1.append([head_2, head_3, head_4])"
   ]
  },
  {
   "cell_type": "code",
   "execution_count": 5,
   "metadata": {},
   "outputs": [
    {
     "name": "stdout",
     "output_type": "stream",
     "text": [
      "905001\n",
      "840293\n"
     ]
    }
   ],
   "source": [
    "print(headlines.shape[0])\n",
    "stripped = headlines.titles.apply(lambda x: x.strip('\"\\' ' ))\n",
    "drop_dupes = headlines[~headlines.titles.duplicated(keep='first')]\n",
    "\n",
    "print(drop_dupes.shape[0])"
   ]
  },
  {
   "cell_type": "code",
   "execution_count": null,
   "metadata": {},
   "outputs": [],
   "source": []
  }
 ],
 "metadata": {
  "kernelspec": {
   "display_name": "Python 3",
   "language": "python",
   "name": "python3"
  },
  "language_info": {
   "codemirror_mode": {
    "name": "ipython",
    "version": 3
   },
   "file_extension": ".py",
   "mimetype": "text/x-python",
   "name": "python",
   "nbconvert_exporter": "python",
   "pygments_lexer": "ipython3",
   "version": "3.6.4"
  }
 },
 "nbformat": 4,
 "nbformat_minor": 2
}
